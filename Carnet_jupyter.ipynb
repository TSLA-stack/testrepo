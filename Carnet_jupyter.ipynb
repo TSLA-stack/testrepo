{
 "cells": [
  {
   "cell_type": "markdown",
   "metadata": {},
   "source": [
    "<center>\n",
    "    <img src=\"https://cf-courses-data.s3.us.cloud-object-storage.appdomain.cloud/IBMDeveloperSkillsNetwork-DS0105EN-SkillsNetwork/labs/Module2/images/SN_web_lightmode.png\" width=\"300\" alt=\"cognitiveclass.ai logo\">\n",
    "</center>\n"
   ]
  },
  {
   "cell_type": "markdown",
   "metadata": {},
   "source": [
    "#### Add your code below following the instructions given in the course\n"
   ]
  },
  {
   "cell_type": "markdown",
   "metadata": {},
   "source": [
    "# Projet Final - Carnet Jupyter"
   ]
  },
  {
   "cell_type": "markdown",
   "metadata": {},
   "source": [
    "## Introduction\n",
    "Ce carnet présente les différents aspects de la science des données, y compris les langages, les bibliothèques, les outils et quelques exemples d'expressions arithmétiques. Vous trouverez également des opérations simples en Python.\n",
    "\n"
   ]
  },
  {
   "cell_type": "markdown",
   "metadata": {},
   "source": [
    "### Langages de la science des données\n",
    "- Python\n",
    "- R\n",
    "- SQL\n",
    "- Julia\n",
    "- Scala\n",
    "\n"
   ]
  },
  {
   "cell_type": "markdown",
   "metadata": {},
   "source": [
    "### Bibliothèques de science des données\n",
    "- NumPy\n",
    "- Pandas\n",
    "- Matplotlib\n",
    "- Scikit-learn\n",
    "- TensorFlow\n"
   ]
  },
  {
   "cell_type": "markdown",
   "metadata": {},
   "source": [
    "### Outils de la science des données\n",
    "\n",
    "| Outils               | Description                                  |\n",
    "|----------------------|----------------------------------------------|\n",
    "| Jupyter Notebook      | Environnement interactif de développement    |\n",
    "| RStudio              | IDE pour R et Python                         |\n",
    "| Apache Hadoop        | Framework pour le traitement des données     |\n",
    "| TensorFlow           | Bibliothèque pour le machine learning        |\n",
    "| Tableau              | Outil de visualisation des données           |\n"
   ]
  },
  {
   "cell_type": "markdown",
   "metadata": {},
   "source": [
    "### Exemples d'expressions arithmétiques\n",
    "- Addition : `3 + 2 = 5`\n",
    "- Soustraction : `10 - 7 = 3`\n",
    "- Multiplication : `4 * 5 = 20`\n",
    "- Division : `20 / 4 = 5`\n",
    "\n",
    "\n"
   ]
  },
  {
   "cell_type": "code",
   "execution_count": 2,
   "metadata": {
    "tags": []
   },
   "outputs": [
    {
     "data": {
      "text/plain": [
       "(15, 8)"
      ]
     },
     "execution_count": 2,
     "metadata": {},
     "output_type": "execute_result"
    }
   ],
   "source": [
    "# Multiplication et addition \n",
    "a = 5 \n",
    "b = 3 \n",
    "resultat_multiplication = a * b \n",
    "resultat_addition = a + b \n",
    "resultat_multiplication, resultat_addition"
   ]
  },
  {
   "cell_type": "code",
   "execution_count": 4,
   "metadata": {
    "tags": []
   },
   "outputs": [
    {
     "data": {
      "text/plain": [
       "2.5"
      ]
     },
     "execution_count": 4,
     "metadata": {},
     "output_type": "execute_result"
    }
   ],
   "source": [
    "# Conversion des minutes en heures \n",
    "minutes = 150 \n",
    "heures = minutes / 60 \n",
    "heures"
   ]
  },
  {
   "cell_type": "markdown",
   "metadata": {},
   "source": [
    "### Objectifs\n",
    "- Comprendre les langages et bibliothèques utilisés en science des données\n",
    "- Découvrir les outils de traitement et visualisation des données\n",
    "- Effectuer des opérations simples avec Python pour la manipulation des données\n"
   ]
  },
  {
   "cell_type": "markdown",
   "metadata": {},
   "source": [
    "### Auteur\n",
    "Nom : Sieminia Lehila Audrey TUO\n"
   ]
  },
  {
   "cell_type": "markdown",
   "metadata": {},
   "source": [
    "### Partage du carnet \n",
    "Le carnet a été partagé sur GitHub. Voici le lien : https://github.com/TSLA-stack/testrepo/blob/main/Carnet_jupyter.ipynb"
   ]
  },
  {
   "cell_type": "code",
   "execution_count": null,
   "metadata": {},
   "outputs": [],
   "source": []
  }
 ],
 "metadata": {
  "kernelspec": {
   "display_name": "Python",
   "language": "python",
   "name": "conda-env-python-py"
  },
  "language_info": {
   "codemirror_mode": {
    "name": "ipython",
    "version": 3
   },
   "file_extension": ".py",
   "mimetype": "text/x-python",
   "name": "python",
   "nbconvert_exporter": "python",
   "pygments_lexer": "ipython3",
   "version": "3.7.12"
  }
 },
 "nbformat": 4,
 "nbformat_minor": 4
}
